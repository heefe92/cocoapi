{
 "cells": [
  {
   "cell_type": "code",
   "execution_count": 1,
   "metadata": {
    "collapsed": false
   },
   "outputs": [],
   "source": [
    "%matplotlib inline\n",
    "import matplotlib.pyplot as plt\n",
    "from pycocotools.coco import COCO\n",
    "from pycocotools.cocoeval import COCOeval\n",
    "import numpy as np\n",
    "import skimage.io as io\n",
    "import pylab\n",
    "pylab.rcParams['figure.figsize'] = (10.0, 8.0)"
   ]
  },
  {
   "cell_type": "code",
   "execution_count": 2,
   "metadata": {
    "collapsed": false
   },
   "outputs": [
    {
     "name": "stdout",
     "output_type": "stream",
     "text": [
      "Running demo for *bbox* results.\n"
     ]
    }
   ],
   "source": [
    "annType = ['segm','bbox','keypoints']\n",
    "annType = annType[1]      #specify type here\n",
    "prefix = 'person_keypoints' if annType=='keypoints' else 'instances'\n",
    "print ('Running demo for *%s* results.'%(annType))"
   ]
  },
  {
   "cell_type": "code",
   "execution_count": 3,
   "metadata": {
    "collapsed": false
   },
   "outputs": [
    {
     "data": {
      "text/plain": [
       "'J:/git_projects/pycococreator/examples/shapes/train/instances_KNU_train2018.json'"
      ]
     },
     "execution_count": 3,
     "metadata": {},
     "output_type": "execute_result"
    }
   ],
   "source": [
    "#initialize COCO ground truth api\n",
    "\n",
    "    \n",
    "dataDir='J:/git_projects/pycococreator/examples/shapes/train'\n",
    "dataType='train2018'\n",
    "#annFile = '%s/annotations/%s_%s.json'%(dataDir,prefix,dataType)\n",
    "annFile = '%s/%s_KNU_%s.json'%(dataDir,prefix,dataType)\n",
    "annFile"
   ]
  },
  {
   "cell_type": "code",
   "execution_count": 4,
   "metadata": {
    "collapsed": false
   },
   "outputs": [
    {
     "name": "stdout",
     "output_type": "stream",
     "text": [
      "loading annotations into memory...\n",
      "Done (t=0.00s)\n",
      "creating index...\n",
      "index created!\n"
     ]
    }
   ],
   "source": [
    "cocoGt=COCO(annFile)"
   ]
  },
  {
   "cell_type": "code",
   "execution_count": 5,
   "metadata": {
    "collapsed": false
   },
   "outputs": [
    {
     "data": {
      "text/plain": [
       "'J:/git_projects/pycococreator/examples/shapes/train/instances_train2018_fakebbox100_results.json'"
      ]
     },
     "execution_count": 5,
     "metadata": {},
     "output_type": "execute_result"
    }
   ],
   "source": [
    "#initialize COCO detections api\n",
    "resFile='%s/%s_%s_fake%s100_results.json'\n",
    "resFile = resFile%(dataDir, prefix, dataType, annType)\n",
    "resFile"
   ]
  },
  {
   "cell_type": "code",
   "execution_count": 6,
   "metadata": {
    "collapsed": false
   },
   "outputs": [
    {
     "name": "stdout",
     "output_type": "stream",
     "text": [
      "Loading and preparing results...\n",
      "DONE (t=0.00s)\n",
      "creating index...\n",
      "index created!\n"
     ]
    }
   ],
   "source": [
    "cocoDt=cocoGt.loadRes(resFile)"
   ]
  },
  {
   "cell_type": "code",
   "execution_count": 7,
   "metadata": {
    "collapsed": false
   },
   "outputs": [],
   "source": [
    "imgIds=sorted(cocoGt.getImgIds())"
   ]
  },
  {
   "cell_type": "code",
   "execution_count": 8,
   "metadata": {
    "collapsed": false
   },
   "outputs": [
    {
     "data": {
      "text/plain": [
       "[1, 2, 3, 4, 5]"
      ]
     },
     "execution_count": 8,
     "metadata": {},
     "output_type": "execute_result"
    }
   ],
   "source": [
    "imgIds"
   ]
  },
  {
   "cell_type": "code",
   "execution_count": 9,
   "metadata": {
    "collapsed": false
   },
   "outputs": [],
   "source": [
    "imgIds=imgIds[0:5]"
   ]
  },
  {
   "cell_type": "code",
   "execution_count": 10,
   "metadata": {
    "collapsed": false
   },
   "outputs": [],
   "source": [
    "imgId = imgIds[np.random.randint(5)]"
   ]
  },
  {
   "cell_type": "code",
   "execution_count": 29,
   "metadata": {
    "collapsed": false
   },
   "outputs": [
    {
     "data": {
      "text/plain": [
       "[2]"
      ]
     },
     "execution_count": 29,
     "metadata": {},
     "output_type": "execute_result"
    }
   ],
   "source": [
    "imgIds[1:2]"
   ]
  },
  {
   "cell_type": "code",
   "execution_count": 31,
   "metadata": {
    "collapsed": false
   },
   "outputs": [
    {
     "name": "stdout",
     "output_type": "stream",
     "text": [
      "Running per image evaluation...\n",
      "Evaluate annotation type *bbox*\n",
      "[[0.99916991]]\n",
      "sss\n",
      "sss\n",
      "sss\n",
      "[[0.99857897]]\n",
      "sss\n",
      "sss\n",
      "sss\n",
      "[]\n",
      "sss\n",
      "sss\n",
      "[]\n",
      "sss\n",
      "sss\n",
      "[]\n",
      "DONE (t=0.00s).\n",
      "Accumulating evaluation results...\n",
      "DONE (t=0.01s).\n",
      " Average Precision  (AP) @[ IoU=0.50:0.95 | area=   all | maxDets=100 ] = 1.000\n",
      " Average Precision  (AP) @[ IoU=0.50      | area=   all | maxDets=100 ] = 1.000\n",
      " Average Precision  (AP) @[ IoU=0.75      | area=   all | maxDets=100 ] = 1.000\n",
      " Average Precision  (AP) @[ IoU=0.50:0.95 | area= small | maxDets=100 ] = -1.000\n",
      " Average Precision  (AP) @[ IoU=0.50:0.95 | area=medium | maxDets=100 ] = -1.000\n",
      " Average Precision  (AP) @[ IoU=0.50:0.95 | area= large | maxDets=100 ] = 1.000\n",
      " Average Recall     (AR) @[ IoU=0.50:0.95 | area=   all | maxDets=  1 ] = 1.000\n",
      " Average Recall     (AR) @[ IoU=0.50:0.95 | area=   all | maxDets= 10 ] = 1.000\n",
      " Average Recall     (AR) @[ IoU=0.50:0.95 | area=   all | maxDets=100 ] = 1.000\n",
      " Average Recall     (AR) @[ IoU=0.50:0.95 | area= small | maxDets=100 ] = -1.000\n",
      " Average Recall     (AR) @[ IoU=0.50:0.95 | area=medium | maxDets=100 ] = -1.000\n",
      " Average Recall     (AR) @[ IoU=0.50:0.95 | area= large | maxDets=100 ] = 1.000\n"
     ]
    }
   ],
   "source": [
    "# running evaluation\n",
    "cocoEval = COCOeval(cocoGt,cocoDt,'bbox')\n",
    "cocoEval.params.imgIds  = imgIds #이거 조절하면 특정 아이디 알아낼 수 있다. \n",
    "cocoEval.evaluate()\n",
    "cocoEval.accumulate()\n",
    "cocoEval.summarize()"
   ]
  },
  {
   "cell_type": "code",
   "execution_count": 13,
   "metadata": {
    "collapsed": false
   },
   "outputs": [
    {
     "data": {
      "text/plain": [
       "\u001b[1;31mInit signature:\u001b[0m \u001b[0mCOCOeval\u001b[0m\u001b[1;33m(\u001b[0m\u001b[0mcocoGt\u001b[0m\u001b[1;33m=\u001b[0m\u001b[1;32mNone\u001b[0m\u001b[1;33m,\u001b[0m \u001b[0mcocoDt\u001b[0m\u001b[1;33m=\u001b[0m\u001b[1;32mNone\u001b[0m\u001b[1;33m,\u001b[0m \u001b[0miouType\u001b[0m\u001b[1;33m=\u001b[0m\u001b[1;34m'segm'\u001b[0m\u001b[1;33m)\u001b[0m\u001b[1;33m\u001b[0m\u001b[0m\n",
       "\u001b[1;31mDocstring:\u001b[0m      <no docstring>\n",
       "\u001b[1;31mInit docstring:\u001b[0m\n",
       "Initialize CocoEval using coco APIs for gt and dt\n",
       ":param cocoGt: coco object with ground truth annotations\n",
       ":param cocoDt: coco object with detection results\n",
       ":return: None\n",
       "\u001b[1;31mFile:\u001b[0m           j:\\git_projects\\cocoapi\\pythonapi\\pycocotools\\cocoeval.py\n",
       "\u001b[1;31mType:\u001b[0m           type\n"
      ]
     },
     "metadata": {},
     "output_type": "display_data"
    }
   ],
   "source": [
    "COCOeval?"
   ]
  },
  {
   "cell_type": "code",
   "execution_count": 27,
   "metadata": {
    "collapsed": false
   },
   "outputs": [
    {
     "data": {
      "text/plain": [
       "array([1., 1., 1., ..., 1., 1., 1.])"
      ]
     },
     "execution_count": 27,
     "metadata": {},
     "output_type": "execute_result"
    }
   ],
   "source": [
    "s = cocoEval.eval[\"precision\"]\n",
    "s[s>-1]"
   ]
  },
  {
   "cell_type": "code",
   "execution_count": 22,
   "metadata": {
    "collapsed": false
   },
   "outputs": [
    {
     "data": {
      "text/plain": [
       "(10, 101, 3, 4, 3)"
      ]
     },
     "execution_count": 22,
     "metadata": {},
     "output_type": "execute_result"
    }
   ],
   "source": [
    "if iouThr is not None:\n",
    "    t = np.where(iouThr == p.iouThrs)[0]\n",
    "    s = s[t]\n",
    "s = s[:,:,:,aind,mind]"
   ]
  },
  {
   "cell_type": "code",
   "execution_count": 15,
   "metadata": {},
   "outputs": [
    {
     "data": {
      "text/plain": [
       "{1: {'id': 1,\n",
       "  'image_id': 1,\n",
       "  'category_id': 1,\n",
       "  'iscrowd': 0,\n",
       "  'area': 57600.0,\n",
       "  'bbox': [3518.99904, 3.000239999999991, 240.0, 282.00096],\n",
       "  'width': 3840,\n",
       "  'height': 2160,\n",
       "  'ignore': 0,\n",
       "  '_ignore': 0},\n",
       " 2: {'id': 2,\n",
       "  'image_id': 2,\n",
       "  'category_id': 2,\n",
       "  'iscrowd': 0,\n",
       "  'area': 36864.0,\n",
       "  'bbox': [3554.99904, 3.0013199999999927, 192.0, 260.99928],\n",
       "  'width': 3840,\n",
       "  'height': 2160,\n",
       "  'ignore': 0,\n",
       "  '_ignore': 0},\n",
       " 3: {'id': 3,\n",
       "  'image_id': 3,\n",
       "  'category_id': 0,\n",
       "  'iscrowd': 0,\n",
       "  'area': 41616.0,\n",
       "  'bbox': [3548.99904, 2.9991600000000034, 204.0, 246.00024000000002],\n",
       "  'width': 3840,\n",
       "  'height': 2160},\n",
       " 4: {'id': 4,\n",
       "  'image_id': 4,\n",
       "  'category_id': 0,\n",
       "  'iscrowd': 0,\n",
       "  'area': 42848.6025609216,\n",
       "  'bbox': [3530.99904, 2.9991600000000176, 206.99904, 279.00072],\n",
       "  'width': 3840,\n",
       "  'height': 2160},\n",
       " 5: {'id': 5,\n",
       "  'image_id': 5,\n",
       "  'category_id': 0,\n",
       "  'iscrowd': 0,\n",
       "  'area': 23409.2937609216,\n",
       "  'bbox': [3554.9990399999997, 8.99964, 153.00096, 279.00072],\n",
       "  'width': 3840,\n",
       "  'height': 2160}}"
      ]
     },
     "execution_count": 15,
     "metadata": {},
     "output_type": "execute_result"
    }
   ],
   "source": []
  },
  {
   "cell_type": "code",
   "execution_count": 16,
   "metadata": {},
   "outputs": [
    {
     "data": {
      "text/plain": [
       "{1: {'image_id': 1,\n",
       "  'category_id': 1,\n",
       "  'bbox': [3518.9, 3.0, 240.0, 282.0],\n",
       "  'score': 0.9,\n",
       "  'segmentation': [[3518.9, 3.0, 3518.9, 285.0, 3758.9, 285.0, 3758.9, 3.0]],\n",
       "  'area': 67680.0,\n",
       "  'id': 1,\n",
       "  'iscrowd': 0},\n",
       " 2: {'image_id': 2,\n",
       "  'category_id': 2,\n",
       "  'bbox': [3554.9, 3.0, 192.0, 260.9],\n",
       "  'score': 0.9,\n",
       "  'segmentation': [[3554.9, 3.0, 3554.9, 263.9, 3746.9, 263.9, 3746.9, 3.0]],\n",
       "  'area': 50092.799999999996,\n",
       "  'id': 2,\n",
       "  'iscrowd': 0},\n",
       " 3: {'image_id': 3,\n",
       "  'category_id': 3,\n",
       "  'bbox': [3548.9, 2.9, 204.0, 246.0],\n",
       "  'score': 0.9,\n",
       "  'segmentation': [[3548.9, 2.9, 3548.9, 248.9, 3752.9, 248.9, 3752.9, 2.9]],\n",
       "  'area': 50184.0,\n",
       "  'id': 3,\n",
       "  'iscrowd': 0},\n",
       " 4: {'image_id': 4,\n",
       "  'category_id': 3,\n",
       "  'bbox': [3530.9, 2.9, 206.9, 279.0],\n",
       "  'score': 0.9,\n",
       "  'segmentation': [[3530.9, 2.9, 3530.9, 281.9, 3737.8, 281.9, 3737.8, 2.9]],\n",
       "  'area': 57725.1,\n",
       "  'id': 4,\n",
       "  'iscrowd': 0},\n",
       " 5: {'image_id': 5,\n",
       "  'category_id': 3,\n",
       "  'bbox': [3554.9, 8.9, 153.0, 279.0],\n",
       "  'score': 0.9,\n",
       "  'segmentation': [[3554.9, 8.9, 3554.9, 287.9, 3707.9, 287.9, 3707.9, 8.9]],\n",
       "  'area': 42687.0,\n",
       "  'id': 5,\n",
       "  'iscrowd': 0}}"
      ]
     },
     "execution_count": 16,
     "metadata": {},
     "output_type": "execute_result"
    }
   ],
   "source": [
    "#cocoDt.anns[1]['area'] = 10\n",
    "#cocoDt.anns[2]['area'] = 10\n",
    "#cocoDt.anns[3]['area'] = 10\n",
    "#cocoDt.anns[4]['area'] = 10\n",
    "#cocoDt.anns[5]['area'] = 10\n",
    "cocoDt.anns"
   ]
  },
  {
   "cell_type": "code",
   "execution_count": 17,
   "metadata": {},
   "outputs": [
    {
     "ename": "SyntaxError",
     "evalue": "unexpected EOF while parsing (<ipython-input-17-5ee570727008>, line 8)",
     "output_type": "error",
     "traceback": [
      "\u001b[1;36m  File \u001b[1;32m\"<ipython-input-17-5ee570727008>\"\u001b[1;36m, line \u001b[1;32m8\u001b[0m\n\u001b[1;33m    'id': 1},\u001b[0m\n\u001b[1;37m             ^\u001b[0m\n\u001b[1;31mSyntaxError\u001b[0m\u001b[1;31m:\u001b[0m unexpected EOF while parsing\n"
     ]
    }
   ],
   "source": [
    "{1: {'image_id': 1,\n",
    "  'category_id': 0,\n",
    "  'bbox': [3518.9, 3.0, 240.0, 282.0],\n",
    "  'score': 0.9,\n",
    "  'area': 67680.0,\n",
    "  'iscrowd': 0,\n",
    "  'segmentation': [[1]],\n",
    "  'id': 1},"
   ]
  },
  {
   "cell_type": "code",
   "execution_count": null,
   "metadata": {},
   "outputs": [],
   "source": [
    "{1: {'id': 1,\n",
    "  'image_id': 1,\n",
    "  'category_id': 0,\n",
    "  'iscrowd': 0,\n",
    "  'area': 10,\n",
    "  'bbox': [3518.99904, 3.000239999999991, 240.0, 282.00096],\n",
    "  'segmentation': [[1]],\n",
    "  'width': 3840,\n",
    "  'height': 2160},"
   ]
  },
  {
   "cell_type": "code",
   "execution_count": null,
   "metadata": {},
   "outputs": [],
   "source": [
    "cocoDt.cats"
   ]
  },
  {
   "cell_type": "code",
   "execution_count": null,
   "metadata": {},
   "outputs": [],
   "source": [
    "cocoDt.dataset"
   ]
  }
 ],
 "metadata": {
  "kernelspec": {
   "display_name": "Python 3",
   "language": "python",
   "name": "python3"
  },
  "language_info": {
   "codemirror_mode": {
    "name": "ipython",
    "version": 3
   },
   "file_extension": ".py",
   "mimetype": "text/x-python",
   "name": "python",
   "nbconvert_exporter": "python",
   "pygments_lexer": "ipython3",
   "version": "3.6.5"
  }
 },
 "nbformat": 4,
 "nbformat_minor": 2
}
